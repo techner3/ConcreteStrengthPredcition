{
 "cells": [
  {
   "cell_type": "markdown",
   "id": "f7122474",
   "metadata": {},
   "source": [
    "# Exploratory Data Analysis for Concrete Strength Prediction"
   ]
  },
  {
   "cell_type": "markdown",
   "id": "39090b94",
   "metadata": {},
   "source": [
    "### Importing Necessary Libraries"
   ]
  },
  {
   "cell_type": "code",
   "execution_count": null,
   "id": "45cac60e",
   "metadata": {},
   "outputs": [],
   "source": [
    "import pandas as pd\n",
    "import seaborn as sns\n",
    "import numpy as np\n",
    "import matplotlib.pyplot as plt\n",
    "from pandas_profiling import ProfileReport"
   ]
  },
  {
   "cell_type": "markdown",
   "id": "49cd1436",
   "metadata": {},
   "source": [
    "### Loading Data"
   ]
  },
  {
   "cell_type": "code",
   "execution_count": null,
   "id": "85a2ff5b",
   "metadata": {},
   "outputs": [],
   "source": [
    "pd.set_option(\"display.max_columns\",None)\n",
    "data_path=\"C:/Users/Bala/Projects/Internship/ConcreteStrength/raw_data/concrete_data.csv\"\n",
    "df=pd.read_csv(data_path)\n",
    "df.head()"
   ]
  },
  {
   "cell_type": "code",
   "execution_count": null,
   "id": "1f0fd0be",
   "metadata": {},
   "outputs": [],
   "source": [
    "df.info()"
   ]
  },
  {
   "cell_type": "code",
   "execution_count": null,
   "id": "ae7a4eef",
   "metadata": {},
   "outputs": [],
   "source": [
    "df.describe()"
   ]
  },
  {
   "cell_type": "markdown",
   "id": "90aec4f6",
   "metadata": {},
   "source": [
    "### Observations\n",
    "\n",
    "1. This Dataset consists of 9 features listed below : \n",
    "     * cement - kg in a m3 mixture\n",
    "     * blast_furnace_slag - kg in a m3 mixture\n",
    "     * fly_ash - kg in a m3 mixture\n",
    "     * water - kg in a m3 mixture\n",
    "     * superplasticizer - kg in a m3 mixture\n",
    "     * coarse_aggregate - kg in a m3 mixture\n",
    "     * coarse_aggregate - kg in a m3 mixture\n",
    "     * fine_aggregate - kg in a m3 mixture\n",
    "     * age - Day (1~365)\n",
    "     * concrete_compressive_strength - MPa\n",
    "2. The data type of each feature is shown above\n",
    "3. 1030 records are present in this dataset"
   ]
  },
  {
   "cell_type": "code",
   "execution_count": null,
   "id": "a0690dcf",
   "metadata": {},
   "outputs": [],
   "source": [
    "report=ProfileReport(df)\n",
    "report.to_widgets()"
   ]
  },
  {
   "cell_type": "code",
   "execution_count": null,
   "id": "a79cd032",
   "metadata": {},
   "outputs": [],
   "source": [
    "report.to_file(\"ProfileReport.html\")"
   ]
  },
  {
   "cell_type": "markdown",
   "id": "cc0a5170",
   "metadata": {},
   "source": [
    "### Observations from Profile Report\n",
    "\n",
    "1. There are no missing values present in the dataset\n",
    "2. Zeros are present in blast_furnace_slag, fly_ash and superplasticizer\n",
    "3. No categorical Values is present in the dataset\n",
    "4. Duplicates are present in the dataset\n",
    "5. No columns with zero standard deviation "
   ]
  },
  {
   "cell_type": "markdown",
   "id": "9d6fee09",
   "metadata": {},
   "source": [
    "### Handling duplicates"
   ]
  },
  {
   "cell_type": "code",
   "execution_count": null,
   "id": "63d88da2",
   "metadata": {},
   "outputs": [],
   "source": [
    "df.drop_duplicates(inplace=True)\n",
    "print(df.shape[0])"
   ]
  },
  {
   "cell_type": "markdown",
   "id": "6ab08971",
   "metadata": {},
   "source": [
    "### Analysis and Visualization"
   ]
  },
  {
   "cell_type": "markdown",
   "id": "dfa49e13",
   "metadata": {},
   "source": [
    "Distribution of Each Feature"
   ]
  },
  {
   "cell_type": "code",
   "execution_count": null,
   "id": "f3276932",
   "metadata": {},
   "outputs": [],
   "source": [
    "for feature in df.columns:\n",
    "    sns.displot(df[feature])\n",
    "    plt.xlabel(feature)\n",
    "    plt.title(feature.title())\n",
    "    plt.show()"
   ]
  },
  {
   "cell_type": "code",
   "execution_count": null,
   "id": "3b919437",
   "metadata": {},
   "outputs": [],
   "source": [
    "sns.pairplot(df)"
   ]
  },
  {
   "cell_type": "markdown",
   "id": "600fa944",
   "metadata": {},
   "source": [
    "Correleation between each feature"
   ]
  },
  {
   "cell_type": "code",
   "execution_count": null,
   "id": "f7ece71d",
   "metadata": {},
   "outputs": [],
   "source": [
    "ax = sns.heatmap(df.corr(), annot=True,cmap='YlGnBu')\n",
    "bottom, top = ax.get_ylim()\n",
    "ax.set_ylim(bottom + 0.5, top - 0.5)"
   ]
  },
  {
   "cell_type": "markdown",
   "id": "af566c42",
   "metadata": {},
   "source": [
    "### Observations\n",
    "1. Cement is more correlated with the target variable than other features"
   ]
  },
  {
   "cell_type": "markdown",
   "id": "d5c7dff4",
   "metadata": {},
   "source": [
    "### Outliers"
   ]
  },
  {
   "cell_type": "code",
   "execution_count": null,
   "id": "df0dac18",
   "metadata": {},
   "outputs": [],
   "source": [
    "for feature in df.columns:\n",
    "    data=df.copy()\n",
    "    data[feature]=data[feature]\n",
    "    data.boxplot(column=feature)\n",
    "    plt.ylabel(feature)\n",
    "    plt.title(feature)\n",
    "    plt.show()"
   ]
  },
  {
   "cell_type": "markdown",
   "id": "4105fcc6",
   "metadata": {},
   "source": [
    "### Observations\n",
    "\n",
    "1. The following features have outliers:\n",
    "    * Age\n",
    "    * Fine Aggregate\n",
    "    * Water\n",
    "    * Superplasticizer\n",
    "    * Blast Furnace Slag"
   ]
  },
  {
   "cell_type": "code",
   "execution_count": null,
   "id": "9f2ff2a9",
   "metadata": {},
   "outputs": [],
   "source": [
    "def detect_outliers_iqr(data):\n",
    "    outliers = []\n",
    "    data = sorted(data)\n",
    "    q1 = np.percentile(data, 25)\n",
    "    q3 = np.percentile(data, 75)\n",
    "    IQR = q3-q1\n",
    "    lwr_bound = q1-(1.5*IQR)\n",
    "    upr_bound = q3+(1.5*IQR)\n",
    "    for i in data: \n",
    "        if (i<lwr_bound or i>upr_bound):\n",
    "            outliers.append(i)\n",
    "    return outliers"
   ]
  },
  {
   "cell_type": "code",
   "execution_count": null,
   "id": "b88cbed6",
   "metadata": {},
   "outputs": [],
   "source": [
    "outliers_column=[]\n",
    "for feature in df.columns:\n",
    "    sample_outliers = detect_outliers_iqr(df[feature])\n",
    "    if len(sample_outliers)>0:\n",
    "        print(f\"{feature}\", len(sample_outliers))\n",
    "        outliers_column.append(feature)"
   ]
  },
  {
   "cell_type": "code",
   "execution_count": null,
   "id": "70192f33",
   "metadata": {},
   "outputs": [],
   "source": [
    "print(outliers_column[-1])"
   ]
  },
  {
   "cell_type": "markdown",
   "id": "753e4008",
   "metadata": {},
   "source": [
    "Outlier Handling in feature column"
   ]
  },
  {
   "cell_type": "code",
   "execution_count": null,
   "id": "8c5f12c4",
   "metadata": {},
   "outputs": [],
   "source": [
    "for feature in outliers_column[:-1]:\n",
    "    tenth_percentile = np.percentile(df[feature], 10)\n",
    "    ninetieth_percentile = np.percentile(df[feature], 90)\n",
    "    df.loc[df[feature]<tenth_percentile,feature]=tenth_percentile\n",
    "    df.loc[df[feature]>ninetieth_percentile,feature]=ninetieth_percentile"
   ]
  },
  {
   "cell_type": "markdown",
   "id": "96dee88a",
   "metadata": {},
   "source": [
    "Outlier Handling in target column"
   ]
  },
  {
   "cell_type": "code",
   "execution_count": null,
   "id": "d417bf6a",
   "metadata": {},
   "outputs": [],
   "source": [
    "sample_outliers = detect_outliers_iqr(df[outliers_column[-1]])\n",
    "outliers_index=[]\n",
    "for outlier in sample_outliers:\n",
    "    outliers_index.append(df[df[outliers_column[-1]]==outlier].index.values[0])\n",
    "df.drop(df.index[outliers_index],axis=0,inplace=True)\n",
    "print(df.shape[0])"
   ]
  },
  {
   "cell_type": "code",
   "execution_count": null,
   "id": "f119db13",
   "metadata": {},
   "outputs": [],
   "source": []
  }
 ],
 "metadata": {
  "kernelspec": {
   "display_name": "Python 3 (ipykernel)",
   "language": "python",
   "name": "python3"
  },
  "language_info": {
   "codemirror_mode": {
    "name": "ipython",
    "version": 3
   },
   "file_extension": ".py",
   "mimetype": "text/x-python",
   "name": "python",
   "nbconvert_exporter": "python",
   "pygments_lexer": "ipython3",
   "version": "3.9.7"
  }
 },
 "nbformat": 4,
 "nbformat_minor": 5
}
